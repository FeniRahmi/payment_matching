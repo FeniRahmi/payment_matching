{
 "cells": [
  {
   "cell_type": "markdown",
   "metadata": {},
   "source": [
    "# Payment Matching\n",
    "This competition was held by Shopee ID NSDC, 2020.\n",
    "\n",
    "Source : [https://www.kaggle.com/c/payment-id-nsdc-2020]"
   ]
  },
  {
   "cell_type": "markdown",
   "metadata": {},
   "source": [
    "### Question and problem understanding\n",
    "At Shopee, bank transfer is a payment method in most countries. When a buyer chooses to place an order using bank transfer, he/she is supposed to make the transfer within 2 days after he/she places the order.\n",
    "After he/she makes the transfer, Shopee will receive a bank statement from the bank and Shopee needs to compare and match the bank statement with the checkout information in order to confirm that this particular order has been paid. This process is called payment matching.\n",
    "Two criteria need to be met in order to match a bank statement with a checkout :\n",
    "* Amount match : statement amount equals checkout amount.\n",
    "* Name match : statement description \"matches\" checkout buyer name (Note: statement description usually contains buyer name).\n",
    "\n",
    "A proper match occurs when both the amount and the name matches on both bank statement and checkout list.\n",
    "\n",
    "Based on the two criteria, lets match the bank statement IDs to the checkout IDs. Please note that in the dataset provided, there are unique matches of each bank statement and checkout."
   ]
  },
  {
   "cell_type": "markdown",
   "metadata": {},
   "source": [
    "**Importing needed packages**"
   ]
  },
  {
   "cell_type": "code",
   "execution_count": 1,
   "metadata": {},
   "outputs": [
    {
     "name": "stderr",
     "output_type": "stream",
     "text": [
      "D:\\Anaconda\\lib\\site-packages\\fuzzywuzzy\\fuzz.py:11: UserWarning: Using slow pure-python SequenceMatcher. Install python-Levenshtein to remove this warning\n",
      "  warnings.warn('Using slow pure-python SequenceMatcher. Install python-Levenshtein to remove this warning')\n"
     ]
    }
   ],
   "source": [
    "import pandas as pd\n",
    "import re\n",
    "from fuzzywuzzy import fuzz"
   ]
  },
  {
   "cell_type": "markdown",
   "metadata": {},
   "source": [
    "**Importing datasets**"
   ]
  },
  {
   "cell_type": "code",
   "execution_count": 2,
   "metadata": {},
   "outputs": [
    {
     "name": "stdout",
     "output_type": "stream",
     "text": [
      "(240000, 3) (240000, 3)\n"
     ]
    }
   ],
   "source": [
    "bank_statement = pd.read_csv('bank_statement.csv')\n",
    "checkout = pd.read_csv('checkout.csv')\n",
    "print(bank_statement.shape, checkout.shape)"
   ]
  },
  {
   "cell_type": "markdown",
   "metadata": {},
   "source": [
    "**Data overview**"
   ]
  },
  {
   "cell_type": "code",
   "execution_count": 3,
   "metadata": {},
   "outputs": [
    {
     "data": {
      "text/html": [
       "<div>\n",
       "<style scoped>\n",
       "    .dataframe tbody tr th:only-of-type {\n",
       "        vertical-align: middle;\n",
       "    }\n",
       "\n",
       "    .dataframe tbody tr th {\n",
       "        vertical-align: top;\n",
       "    }\n",
       "\n",
       "    .dataframe thead th {\n",
       "        text-align: right;\n",
       "    }\n",
       "</style>\n",
       "<table border=\"1\" class=\"dataframe\">\n",
       "  <thead>\n",
       "    <tr style=\"text-align: right;\">\n",
       "      <th></th>\n",
       "      <th>stmt_id</th>\n",
       "      <th>stmt_amount</th>\n",
       "      <th>desc</th>\n",
       "    </tr>\n",
       "  </thead>\n",
       "  <tbody>\n",
       "    <tr>\n",
       "      <th>0</th>\n",
       "      <td>1</td>\n",
       "      <td>100.00</td>\n",
       "      <td>INSTANT TRANSFER    BAW CGANBAWI YIWHI * LEZC ...</td>\n",
       "    </tr>\n",
       "    <tr>\n",
       "      <th>1</th>\n",
       "      <td>2</td>\n",
       "      <td>23.77</td>\n",
       "      <td>WOOG CARIZA NIWSI YO</td>\n",
       "    </tr>\n",
       "    <tr>\n",
       "      <th>2</th>\n",
       "      <td>3</td>\n",
       "      <td>18.00</td>\n",
       "      <td>ZOMAZAW MABIX ATMA *  BUGW * KZBUGW - TRANSFER...</td>\n",
       "    </tr>\n",
       "    <tr>\n",
       "      <th>3</th>\n",
       "      <td>4</td>\n",
       "      <td>21.87</td>\n",
       "      <td>TRANSFER GO LA/FA   AHHA PUYIMA        * YEBF ...</td>\n",
       "    </tr>\n",
       "    <tr>\n",
       "      <th>4</th>\n",
       "      <td>5</td>\n",
       "      <td>53.68</td>\n",
       "      <td>INSTANT TRANSFER    FABZUN WIQAT JIW FA* TEGF ...</td>\n",
       "    </tr>\n",
       "    <tr>\n",
       "      <th>5</th>\n",
       "      <td>6</td>\n",
       "      <td>27.70</td>\n",
       "      <td>DZZ RL-             OBS ZAO CI         * SHOPE...</td>\n",
       "    </tr>\n",
       "    <tr>\n",
       "      <th>6</th>\n",
       "      <td>7</td>\n",
       "      <td>9.19</td>\n",
       "      <td>SOYEGQAJR  SOYEGQAJR PIFI ULAMAX</td>\n",
       "    </tr>\n",
       "    <tr>\n",
       "      <th>7</th>\n",
       "      <td>8</td>\n",
       "      <td>27.33</td>\n",
       "      <td>HAMIVASIAVMI PIVMI *  SHOPEE * FJ -  TRANSFERT...</td>\n",
       "    </tr>\n",
       "    <tr>\n",
       "      <th>8</th>\n",
       "      <td>9</td>\n",
       "      <td>23.30</td>\n",
       "      <td>SHOPEE   NUJUX NAZAMHA CINZI</td>\n",
       "    </tr>\n",
       "    <tr>\n",
       "      <th>9</th>\n",
       "      <td>10</td>\n",
       "      <td>13.00</td>\n",
       "      <td>HRR CQ-             YIEL CJI POB       * ZM * ...</td>\n",
       "    </tr>\n",
       "  </tbody>\n",
       "</table>\n",
       "</div>"
      ],
      "text/plain": [
       "   stmt_id  stmt_amount                                               desc\n",
       "0        1       100.00  INSTANT TRANSFER    BAW CGANBAWI YIWHI * LEZC ...\n",
       "1        2        23.77                              WOOG CARIZA NIWSI YO \n",
       "2        3        18.00  ZOMAZAW MABIX ATMA *  BUGW * KZBUGW - TRANSFER...\n",
       "3        4        21.87  TRANSFER GO LA/FA   AHHA PUYIMA        * YEBF ...\n",
       "4        5        53.68  INSTANT TRANSFER    FABZUN WIQAT JIW FA* TEGF ...\n",
       "5        6        27.70  DZZ RL-             OBS ZAO CI         * SHOPE...\n",
       "6        7         9.19                  SOYEGQAJR  SOYEGQAJR PIFI ULAMAX \n",
       "7        8        27.33  HAMIVASIAVMI PIVMI *  SHOPEE * FJ -  TRANSFERT...\n",
       "8        9        23.30                      SHOPEE   NUJUX NAZAMHA CINZI \n",
       "9       10        13.00  HRR CQ-             YIEL CJI POB       * ZM * ..."
      ]
     },
     "execution_count": 3,
     "metadata": {},
     "output_type": "execute_result"
    }
   ],
   "source": [
    "bank_statement.head(10)"
   ]
  },
  {
   "cell_type": "code",
   "execution_count": 4,
   "metadata": {},
   "outputs": [
    {
     "data": {
      "text/html": [
       "<div>\n",
       "<style scoped>\n",
       "    .dataframe tbody tr th:only-of-type {\n",
       "        vertical-align: middle;\n",
       "    }\n",
       "\n",
       "    .dataframe tbody tr th {\n",
       "        vertical-align: top;\n",
       "    }\n",
       "\n",
       "    .dataframe thead th {\n",
       "        text-align: right;\n",
       "    }\n",
       "</style>\n",
       "<table border=\"1\" class=\"dataframe\">\n",
       "  <thead>\n",
       "    <tr style=\"text-align: right;\">\n",
       "      <th></th>\n",
       "      <th>ckt_id</th>\n",
       "      <th>ckt_amount</th>\n",
       "      <th>buyer_name</th>\n",
       "    </tr>\n",
       "  </thead>\n",
       "  <tbody>\n",
       "    <tr>\n",
       "      <th>0</th>\n",
       "      <td>1</td>\n",
       "      <td>20.00</td>\n",
       "      <td>SAVMUEJICE EPHOCP</td>\n",
       "    </tr>\n",
       "    <tr>\n",
       "      <th>1</th>\n",
       "      <td>2</td>\n",
       "      <td>14.91</td>\n",
       "      <td>LUHALLAK ZGANFAP HAIQAW VIP LOHK. CIQTI</td>\n",
       "    </tr>\n",
       "    <tr>\n",
       "      <th>2</th>\n",
       "      <td>3</td>\n",
       "      <td>13.20</td>\n",
       "      <td>SUQ UNAISIE</td>\n",
       "    </tr>\n",
       "    <tr>\n",
       "      <th>3</th>\n",
       "      <td>4</td>\n",
       "      <td>36.90</td>\n",
       "      <td>GOZK BIHKAUT LIV LATAPI</td>\n",
       "    </tr>\n",
       "    <tr>\n",
       "      <th>4</th>\n",
       "      <td>7</td>\n",
       "      <td>26.29</td>\n",
       "      <td>HUY ZABIRAN HATIZAN WIHMI IRYIZ</td>\n",
       "    </tr>\n",
       "    <tr>\n",
       "      <th>5</th>\n",
       "      <td>8</td>\n",
       "      <td>23.94</td>\n",
       "      <td>WIL ZOOBP MEBP</td>\n",
       "    </tr>\n",
       "    <tr>\n",
       "      <th>6</th>\n",
       "      <td>10</td>\n",
       "      <td>62.73</td>\n",
       "      <td>RFEVQES JUASJ ASAB ANAS</td>\n",
       "    </tr>\n",
       "    <tr>\n",
       "      <th>7</th>\n",
       "      <td>12</td>\n",
       "      <td>102.50</td>\n",
       "      <td>PAQZICIA ZOLE YOMISIC CVAS</td>\n",
       "    </tr>\n",
       "    <tr>\n",
       "      <th>8</th>\n",
       "      <td>13</td>\n",
       "      <td>25.40</td>\n",
       "      <td>GANIBAG</td>\n",
       "    </tr>\n",
       "    <tr>\n",
       "      <th>9</th>\n",
       "      <td>15</td>\n",
       "      <td>9.77</td>\n",
       "      <td>ATIYUV WAUNIF</td>\n",
       "    </tr>\n",
       "  </tbody>\n",
       "</table>\n",
       "</div>"
      ],
      "text/plain": [
       "   ckt_id  ckt_amount                               buyer_name\n",
       "0       1       20.00                        SAVMUEJICE EPHOCP\n",
       "1       2       14.91  LUHALLAK ZGANFAP HAIQAW VIP LOHK. CIQTI\n",
       "2       3       13.20                              SUQ UNAISIE\n",
       "3       4       36.90                  GOZK BIHKAUT LIV LATAPI\n",
       "4       7       26.29         HUY ZABIRAN HATIZAN WIHMI IRYIZ \n",
       "5       8       23.94                           WIL ZOOBP MEBP\n",
       "6      10       62.73                  RFEVQES JUASJ ASAB ANAS\n",
       "7      12      102.50               PAQZICIA ZOLE YOMISIC CVAS\n",
       "8      13       25.40                                  GANIBAG\n",
       "9      15        9.77                            ATIYUV WAUNIF"
      ]
     },
     "execution_count": 4,
     "metadata": {},
     "output_type": "execute_result"
    }
   ],
   "source": [
    "checkout.head(10)"
   ]
  },
  {
   "cell_type": "markdown",
   "metadata": {},
   "source": [
    "**Removing special characters**"
   ]
  },
  {
   "cell_type": "markdown",
   "metadata": {},
   "source": [
    "We will remove special characters and \"TRANSFER\" from the buyer_name and desc columns."
   ]
  },
  {
   "cell_type": "code",
   "execution_count": 5,
   "metadata": {},
   "outputs": [],
   "source": [
    "bank_statement.desc = bank_statement.desc.apply(lambda x: re.sub(r\"[^a-zA-Z0-9]+\", ' ', x))\n",
    "bank_statement.desc = bank_statement.desc.apply(lambda x: re.sub(r\"TRANSFER\", '', x))\n",
    "checkout.buyer_name = checkout.buyer_name.apply(lambda x: re.sub(r\"[^a-zA-Z0-9]+\", ' ', x))\n",
    "checkout.buyer_name = checkout.buyer_name.apply(lambda x: re.sub(r\"TRANSFER\", '', x))"
   ]
  },
  {
   "cell_type": "markdown",
   "metadata": {},
   "source": [
    "**Sorting amount by value**"
   ]
  },
  {
   "cell_type": "code",
   "execution_count": 6,
   "metadata": {},
   "outputs": [],
   "source": [
    "bank_statement = bank_statement.sort_values(by=['stmt_amount'])\n",
    "checkout = checkout.sort_values(by=['ckt_amount'])"
   ]
  },
  {
   "cell_type": "markdown",
   "metadata": {},
   "source": [
    "**Converting the desc and buyer_name to SET**"
   ]
  },
  {
   "cell_type": "code",
   "execution_count": 7,
   "metadata": {},
   "outputs": [],
   "source": [
    "bank_statement.desc = bank_statement.desc.apply(lambda x: set(x.split()))\n",
    "checkout.buyer_name = checkout.buyer_name.apply(lambda x: set(x.split()))"
   ]
  },
  {
   "cell_type": "code",
   "execution_count": 8,
   "metadata": {},
   "outputs": [
    {
     "data": {
      "text/html": [
       "<div>\n",
       "<style scoped>\n",
       "    .dataframe tbody tr th:only-of-type {\n",
       "        vertical-align: middle;\n",
       "    }\n",
       "\n",
       "    .dataframe tbody tr th {\n",
       "        vertical-align: top;\n",
       "    }\n",
       "\n",
       "    .dataframe thead th {\n",
       "        text-align: right;\n",
       "    }\n",
       "</style>\n",
       "<table border=\"1\" class=\"dataframe\">\n",
       "  <thead>\n",
       "    <tr style=\"text-align: right;\">\n",
       "      <th></th>\n",
       "      <th>stmt_id</th>\n",
       "      <th>stmt_amount</th>\n",
       "      <th>desc</th>\n",
       "    </tr>\n",
       "  </thead>\n",
       "  <tbody>\n",
       "    <tr>\n",
       "      <th>37740</th>\n",
       "      <td>37741</td>\n",
       "      <td>0.01</td>\n",
       "      <td>{BUDABBSHOPEEAW, ZAUGAH, ZIFY}</td>\n",
       "    </tr>\n",
       "    <tr>\n",
       "      <th>150536</th>\n",
       "      <td>150537</td>\n",
       "      <td>0.01</td>\n",
       "      <td>{PIHK, TO, A, TYA, INSTANT, PAHK, C, PGGEPC, A...</td>\n",
       "    </tr>\n",
       "    <tr>\n",
       "      <th>226724</th>\n",
       "      <td>226725</td>\n",
       "      <td>0.01</td>\n",
       "      <td>{PAQB, WOK, PEE}</td>\n",
       "    </tr>\n",
       "    <tr>\n",
       "      <th>230963</th>\n",
       "      <td>230964</td>\n",
       "      <td>0.01</td>\n",
       "      <td>{FAWXANAH, VTVUQINR, GOFONR, VUQINR, WAQIN, NOL}</td>\n",
       "    </tr>\n",
       "    <tr>\n",
       "      <th>115857</th>\n",
       "      <td>115858</td>\n",
       "      <td>0.01</td>\n",
       "      <td>{TO, CLA, BULVIBJ, A, NG, C, SHOPEE, ACP, IBAX...</td>\n",
       "    </tr>\n",
       "    <tr>\n",
       "      <th>57353</th>\n",
       "      <td>57354</td>\n",
       "      <td>0.01</td>\n",
       "      <td>{HIMHAW, SIZ, AWNAMH, SAJTUY, I, NAMH}</td>\n",
       "    </tr>\n",
       "    <tr>\n",
       "      <th>39780</th>\n",
       "      <td>39781</td>\n",
       "      <td>0.01</td>\n",
       "      <td>{XAI, TO, PRXAI, A, MIKSI, C, KOOVAWYIXIK, GIK}</td>\n",
       "    </tr>\n",
       "    <tr>\n",
       "      <th>25601</th>\n",
       "      <td>25602</td>\n",
       "      <td>0.01</td>\n",
       "      <td>{PUWAPPAM, A, INSTANT, ASLAY, SHOPEEPOBIGEPAGA...</td>\n",
       "    </tr>\n",
       "    <tr>\n",
       "      <th>127225</th>\n",
       "      <td>127226</td>\n",
       "      <td>0.01</td>\n",
       "      <td>{APACY, SUCF, PICRI, QOVCI, MWSUCF}</td>\n",
       "    </tr>\n",
       "    <tr>\n",
       "      <th>169611</th>\n",
       "      <td>169612</td>\n",
       "      <td>0.01</td>\n",
       "      <td>{AFHUK, GAYZETD, FIT, GZGAYZETD, ZIQ, VAHIX}</td>\n",
       "    </tr>\n",
       "  </tbody>\n",
       "</table>\n",
       "</div>"
      ],
      "text/plain": [
       "        stmt_id  stmt_amount  \\\n",
       "37740     37741         0.01   \n",
       "150536   150537         0.01   \n",
       "226724   226725         0.01   \n",
       "230963   230964         0.01   \n",
       "115857   115858         0.01   \n",
       "57353     57354         0.01   \n",
       "39780     39781         0.01   \n",
       "25601     25602         0.01   \n",
       "127225   127226         0.01   \n",
       "169611   169612         0.01   \n",
       "\n",
       "                                                     desc  \n",
       "37740                      {BUDABBSHOPEEAW, ZAUGAH, ZIFY}  \n",
       "150536  {PIHK, TO, A, TYA, INSTANT, PAHK, C, PGGEPC, A...  \n",
       "226724                                   {PAQB, WOK, PEE}  \n",
       "230963   {FAWXANAH, VTVUQINR, GOFONR, VUQINR, WAQIN, NOL}  \n",
       "115857  {TO, CLA, BULVIBJ, A, NG, C, SHOPEE, ACP, IBAX...  \n",
       "57353              {HIMHAW, SIZ, AWNAMH, SAJTUY, I, NAMH}  \n",
       "39780     {XAI, TO, PRXAI, A, MIKSI, C, KOOVAWYIXIK, GIK}  \n",
       "25601   {PUWAPPAM, A, INSTANT, ASLAY, SHOPEEPOBIGEPAGA...  \n",
       "127225                {APACY, SUCF, PICRI, QOVCI, MWSUCF}  \n",
       "169611       {AFHUK, GAYZETD, FIT, GZGAYZETD, ZIQ, VAHIX}  "
      ]
     },
     "execution_count": 8,
     "metadata": {},
     "output_type": "execute_result"
    }
   ],
   "source": [
    "bank_statement.head(10)"
   ]
  },
  {
   "cell_type": "code",
   "execution_count": 9,
   "metadata": {},
   "outputs": [
    {
     "data": {
      "text/html": [
       "<div>\n",
       "<style scoped>\n",
       "    .dataframe tbody tr th:only-of-type {\n",
       "        vertical-align: middle;\n",
       "    }\n",
       "\n",
       "    .dataframe tbody tr th {\n",
       "        vertical-align: top;\n",
       "    }\n",
       "\n",
       "    .dataframe thead th {\n",
       "        text-align: right;\n",
       "    }\n",
       "</style>\n",
       "<table border=\"1\" class=\"dataframe\">\n",
       "  <thead>\n",
       "    <tr style=\"text-align: right;\">\n",
       "      <th></th>\n",
       "      <th>ckt_id</th>\n",
       "      <th>ckt_amount</th>\n",
       "      <th>buyer_name</th>\n",
       "    </tr>\n",
       "  </thead>\n",
       "  <tbody>\n",
       "    <tr>\n",
       "      <th>77722</th>\n",
       "      <td>106443</td>\n",
       "      <td>0.01</td>\n",
       "      <td>{CIN, RAXVAN, WXAKIH}</td>\n",
       "    </tr>\n",
       "    <tr>\n",
       "      <th>69694</th>\n",
       "      <td>95499</td>\n",
       "      <td>0.01</td>\n",
       "      <td>{DUX, RAMAXADI, ZIDGI, RUWVICWI}</td>\n",
       "    </tr>\n",
       "    <tr>\n",
       "      <th>35591</th>\n",
       "      <td>48817</td>\n",
       "      <td>0.01</td>\n",
       "      <td>{IBAXILAY, ACP, LAYGAB}</td>\n",
       "    </tr>\n",
       "    <tr>\n",
       "      <th>133597</th>\n",
       "      <td>183132</td>\n",
       "      <td>0.01</td>\n",
       "      <td>{ZIFYI, XIH, ZAUGAH, AXIWIH, BUDABBAW}</td>\n",
       "    </tr>\n",
       "    <tr>\n",
       "      <th>167547</th>\n",
       "      <td>229799</td>\n",
       "      <td>0.01</td>\n",
       "      <td>{PIHK, PAHK, AI}</td>\n",
       "    </tr>\n",
       "    <tr>\n",
       "      <th>205619</th>\n",
       "      <td>281850</td>\n",
       "      <td>0.01</td>\n",
       "      <td>{NAAQAT, QADBIBA, XUT, WIXDI}</td>\n",
       "    </tr>\n",
       "    <tr>\n",
       "      <th>199175</th>\n",
       "      <td>273052</td>\n",
       "      <td>0.01</td>\n",
       "      <td>{ZEHITOSO, SASASQ}</td>\n",
       "    </tr>\n",
       "    <tr>\n",
       "      <th>217898</th>\n",
       "      <td>298686</td>\n",
       "      <td>0.01</td>\n",
       "      <td>{XAM, WARIYRILDI, JOWAJAB}</td>\n",
       "    </tr>\n",
       "    <tr>\n",
       "      <th>208502</th>\n",
       "      <td>285819</td>\n",
       "      <td>0.01</td>\n",
       "      <td>{AKIQAZ, IHABI, LIBKI, BUV}</td>\n",
       "    </tr>\n",
       "    <tr>\n",
       "      <th>1764</th>\n",
       "      <td>2386</td>\n",
       "      <td>0.01</td>\n",
       "      <td>{GATIBAB, QIGYI, WACLI, VOBC}</td>\n",
       "    </tr>\n",
       "  </tbody>\n",
       "</table>\n",
       "</div>"
      ],
      "text/plain": [
       "        ckt_id  ckt_amount                              buyer_name\n",
       "77722   106443        0.01                   {CIN, RAXVAN, WXAKIH}\n",
       "69694    95499        0.01        {DUX, RAMAXADI, ZIDGI, RUWVICWI}\n",
       "35591    48817        0.01                 {IBAXILAY, ACP, LAYGAB}\n",
       "133597  183132        0.01  {ZIFYI, XIH, ZAUGAH, AXIWIH, BUDABBAW}\n",
       "167547  229799        0.01                        {PIHK, PAHK, AI}\n",
       "205619  281850        0.01           {NAAQAT, QADBIBA, XUT, WIXDI}\n",
       "199175  273052        0.01                      {ZEHITOSO, SASASQ}\n",
       "217898  298686        0.01              {XAM, WARIYRILDI, JOWAJAB}\n",
       "208502  285819        0.01             {AKIQAZ, IHABI, LIBKI, BUV}\n",
       "1764      2386        0.01           {GATIBAB, QIGYI, WACLI, VOBC}"
      ]
     },
     "execution_count": 9,
     "metadata": {},
     "output_type": "execute_result"
    }
   ],
   "source": [
    "checkout.head(10)"
   ]
  },
  {
   "cell_type": "markdown",
   "metadata": {},
   "source": [
    "**Matching price and description**\n",
    "\n",
    "Criteria 1 : amount match!"
   ]
  },
  {
   "cell_type": "code",
   "execution_count": 10,
   "metadata": {},
   "outputs": [],
   "source": [
    "# Sorted list of prices\n",
    "prices = sorted(list(set(checkout.ckt_amount)))"
   ]
  },
  {
   "cell_type": "code",
   "execution_count": 11,
   "metadata": {},
   "outputs": [],
   "source": [
    "# Matching the price and description\n",
    "bs, co = bank_statement.values.tolist(), checkout.values.tolist(), \n",
    "curr_bank, curr_trans, pend_bank, pend_trans = [], [], [], []\n",
    "answer = []\n",
    "no_ans_trans, no_ans_bank = [], []\n",
    "for price in prices:\n",
    "    while bs and bs[0][1] == price:\n",
    "        curr_bank.append(bs.pop(0))\n",
    "    while co and co[0][1] == price:\n",
    "        curr_trans.append(co.pop(0))\n",
    "\n",
    "    for trans in curr_trans:\n",
    "        found = False\n",
    "        curname = trans[2]\n",
    "        bk = list(filter(lambda x: x[2].intersection(curname), curr_bank))\n",
    "        if bk:\n",
    "            b = max(bk, key= lambda x: len(x[2].intersection(curname)))\n",
    "            answer.append((trans, b))\n",
    "            curr_bank.remove(b)\n",
    "        else:\n",
    "            no_ans_trans.append(trans)\n",
    "            \n",
    "    no_ans_bank.extend(curr_bank)\n",
    "            \n",
    "    curr_bank, curr_trans = [], []"
   ]
  },
  {
   "cell_type": "code",
   "execution_count": 12,
   "metadata": {},
   "outputs": [
    {
     "name": "stdout",
     "output_type": "stream",
     "text": [
      "3143 3143\n"
     ]
    }
   ],
   "source": [
    "# Number of transaction that does not match\n",
    "print(len(no_ans_bank), len(no_ans_trans))"
   ]
  },
  {
   "cell_type": "code",
   "execution_count": 13,
   "metadata": {},
   "outputs": [
    {
     "data": {
      "text/plain": [
       "[[134561, 0.1, {'AYRIHAW', 'NIMPI', 'SRZB', 'YUQOM', 'ZB'}],\n",
       " [122394, 0.1, {'A', 'C', 'GQ', 'PUJPANIFA', 'SHOPEE', 'TO', 'WAJFAPA'}],\n",
       " [158581, 0.1, {'A', 'AD', 'ALAZJAJHICA', 'DILGI', 'GO', 'NA', 'ZA'}],\n",
       " [9325,\n",
       "  0.11,\n",
       "  {'A', 'B', 'BAIC', 'BJTROB', 'C', 'PALA', 'TO', 'TROB', 'V', 'ZAYTRIJI'}],\n",
       " [145415, 0.11, {'A', 'DA', 'JA', 'KULBAGIFAB', 'VO'}]]"
      ]
     },
     "execution_count": 13,
     "metadata": {},
     "output_type": "execute_result"
    }
   ],
   "source": [
    "no_ans_bank[:5]"
   ]
  },
  {
   "cell_type": "code",
   "execution_count": 14,
   "metadata": {},
   "outputs": [
    {
     "data": {
      "text/plain": [
       "[[309643, 0.1, {'ALA', 'ZJAJHICA'}],\n",
       " [275938, 0.1, {'PANIFA', 'PUJ', 'WAJFAPPA'}],\n",
       " [117315, 0.1, {'AYRIHAWYUQOMB'}],\n",
       " [141553, 0.11, {'BAGIFAB'}],\n",
       " [8350, 0.11, {'PALAZAYTRJI'}]]"
      ]
     },
     "execution_count": 14,
     "metadata": {},
     "output_type": "execute_result"
    }
   ],
   "source": [
    "no_ans_trans[:5]"
   ]
  },
  {
   "cell_type": "markdown",
   "metadata": {},
   "source": [
    "## Fuzzy Search (for transaction that does not match)\n",
    "\n",
    "In computer science, fuzzy string matching is the technique of finding strings that match a pattern approximately (rather than exactly). In another word, fuzzy string matching is a type of search that will find matches even when users misspell words or enter only partial words for the search."
   ]
  },
  {
   "cell_type": "code",
   "execution_count": 15,
   "metadata": {},
   "outputs": [],
   "source": [
    "# Getting IDs of transaction that does not match\n",
    "no_id_bank, no_id_trans = [], []\n",
    "for x in range(len(no_ans_bank)):\n",
    "    no_id_bank.append(no_ans_bank[x][0])\n",
    "    no_id_trans.append(no_ans_trans[x][0])"
   ]
  },
  {
   "cell_type": "code",
   "execution_count": 16,
   "metadata": {},
   "outputs": [],
   "source": [
    "# Getting subset of dataframe that previously has no match\n",
    "checkout2 = checkout[checkout['ckt_id'].isin(no_id_trans)]\n",
    "bank_statement2 = bank_statement[bank_statement['stmt_id'].isin(no_id_bank)]"
   ]
  },
  {
   "cell_type": "code",
   "execution_count": 17,
   "metadata": {},
   "outputs": [
    {
     "data": {
      "text/html": [
       "<div>\n",
       "<style scoped>\n",
       "    .dataframe tbody tr th:only-of-type {\n",
       "        vertical-align: middle;\n",
       "    }\n",
       "\n",
       "    .dataframe tbody tr th {\n",
       "        vertical-align: top;\n",
       "    }\n",
       "\n",
       "    .dataframe thead th {\n",
       "        text-align: right;\n",
       "    }\n",
       "</style>\n",
       "<table border=\"1\" class=\"dataframe\">\n",
       "  <thead>\n",
       "    <tr style=\"text-align: right;\">\n",
       "      <th></th>\n",
       "      <th>stmt_id</th>\n",
       "      <th>stmt_amount</th>\n",
       "      <th>desc</th>\n",
       "    </tr>\n",
       "  </thead>\n",
       "  <tbody>\n",
       "    <tr>\n",
       "      <th>134560</th>\n",
       "      <td>134561</td>\n",
       "      <td>0.10</td>\n",
       "      <td>{SRZB, NIMPI, YUQOM, AYRIHAW, ZB}</td>\n",
       "    </tr>\n",
       "    <tr>\n",
       "      <th>122393</th>\n",
       "      <td>122394</td>\n",
       "      <td>0.10</td>\n",
       "      <td>{TO, A, C, PUJPANIFA, SHOPEE, GQ, WAJFAPA}</td>\n",
       "    </tr>\n",
       "    <tr>\n",
       "      <th>158580</th>\n",
       "      <td>158581</td>\n",
       "      <td>0.10</td>\n",
       "      <td>{ZA, A, NA, GO, AD, ALAZJAJHICA, DILGI}</td>\n",
       "    </tr>\n",
       "    <tr>\n",
       "      <th>9324</th>\n",
       "      <td>9325</td>\n",
       "      <td>0.11</td>\n",
       "      <td>{TO, A, V, C, TROB, ZAYTRIJI, BAIC, B, PALA, B...</td>\n",
       "    </tr>\n",
       "    <tr>\n",
       "      <th>145414</th>\n",
       "      <td>145415</td>\n",
       "      <td>0.11</td>\n",
       "      <td>{A, DA, KULBAGIFAB, JA, VO}</td>\n",
       "    </tr>\n",
       "  </tbody>\n",
       "</table>\n",
       "</div>"
      ],
      "text/plain": [
       "        stmt_id  stmt_amount  \\\n",
       "134560   134561         0.10   \n",
       "122393   122394         0.10   \n",
       "158580   158581         0.10   \n",
       "9324       9325         0.11   \n",
       "145414   145415         0.11   \n",
       "\n",
       "                                                     desc  \n",
       "134560                  {SRZB, NIMPI, YUQOM, AYRIHAW, ZB}  \n",
       "122393         {TO, A, C, PUJPANIFA, SHOPEE, GQ, WAJFAPA}  \n",
       "158580            {ZA, A, NA, GO, AD, ALAZJAJHICA, DILGI}  \n",
       "9324    {TO, A, V, C, TROB, ZAYTRIJI, BAIC, B, PALA, B...  \n",
       "145414                        {A, DA, KULBAGIFAB, JA, VO}  "
      ]
     },
     "execution_count": 17,
     "metadata": {},
     "output_type": "execute_result"
    }
   ],
   "source": [
    "bank_statement2.head()"
   ]
  },
  {
   "cell_type": "code",
   "execution_count": 18,
   "metadata": {},
   "outputs": [
    {
     "data": {
      "text/html": [
       "<div>\n",
       "<style scoped>\n",
       "    .dataframe tbody tr th:only-of-type {\n",
       "        vertical-align: middle;\n",
       "    }\n",
       "\n",
       "    .dataframe tbody tr th {\n",
       "        vertical-align: top;\n",
       "    }\n",
       "\n",
       "    .dataframe thead th {\n",
       "        text-align: right;\n",
       "    }\n",
       "</style>\n",
       "<table border=\"1\" class=\"dataframe\">\n",
       "  <thead>\n",
       "    <tr style=\"text-align: right;\">\n",
       "      <th></th>\n",
       "      <th>ckt_id</th>\n",
       "      <th>ckt_amount</th>\n",
       "      <th>buyer_name</th>\n",
       "    </tr>\n",
       "  </thead>\n",
       "  <tbody>\n",
       "    <tr>\n",
       "      <th>225903</th>\n",
       "      <td>309643</td>\n",
       "      <td>0.10</td>\n",
       "      <td>{ZJAJHICA, ALA}</td>\n",
       "    </tr>\n",
       "    <tr>\n",
       "      <th>201280</th>\n",
       "      <td>275938</td>\n",
       "      <td>0.10</td>\n",
       "      <td>{PANIFA, WAJFAPPA, PUJ}</td>\n",
       "    </tr>\n",
       "    <tr>\n",
       "      <th>85648</th>\n",
       "      <td>117315</td>\n",
       "      <td>0.10</td>\n",
       "      <td>{AYRIHAWYUQOMB}</td>\n",
       "    </tr>\n",
       "    <tr>\n",
       "      <th>103356</th>\n",
       "      <td>141553</td>\n",
       "      <td>0.11</td>\n",
       "      <td>{BAGIFAB}</td>\n",
       "    </tr>\n",
       "    <tr>\n",
       "      <th>6114</th>\n",
       "      <td>8350</td>\n",
       "      <td>0.11</td>\n",
       "      <td>{PALAZAYTRJI}</td>\n",
       "    </tr>\n",
       "  </tbody>\n",
       "</table>\n",
       "</div>"
      ],
      "text/plain": [
       "        ckt_id  ckt_amount               buyer_name\n",
       "225903  309643        0.10          {ZJAJHICA, ALA}\n",
       "201280  275938        0.10  {PANIFA, WAJFAPPA, PUJ}\n",
       "85648   117315        0.10          {AYRIHAWYUQOMB}\n",
       "103356  141553        0.11                {BAGIFAB}\n",
       "6114      8350        0.11            {PALAZAYTRJI}"
      ]
     },
     "execution_count": 18,
     "metadata": {},
     "output_type": "execute_result"
    }
   ],
   "source": [
    "checkout2.head()"
   ]
  },
  {
   "cell_type": "code",
   "execution_count": 19,
   "metadata": {},
   "outputs": [
    {
     "name": "stderr",
     "output_type": "stream",
     "text": [
      "<ipython-input-19-6eeba9652afe>:2: SettingWithCopyWarning: \n",
      "A value is trying to be set on a copy of a slice from a DataFrame.\n",
      "Try using .loc[row_indexer,col_indexer] = value instead\n",
      "\n",
      "See the caveats in the documentation: https://pandas.pydata.org/pandas-docs/stable/user_guide/indexing.html#returning-a-view-versus-a-copy\n",
      "  bank_statement2['desc'] = bank_statement2['desc'].apply(lambda x: ' '.join(sorted(list(x))))\n",
      "<ipython-input-19-6eeba9652afe>:3: SettingWithCopyWarning: \n",
      "A value is trying to be set on a copy of a slice from a DataFrame.\n",
      "Try using .loc[row_indexer,col_indexer] = value instead\n",
      "\n",
      "See the caveats in the documentation: https://pandas.pydata.org/pandas-docs/stable/user_guide/indexing.html#returning-a-view-versus-a-copy\n",
      "  checkout2['buyer_name'] = checkout2['buyer_name'].apply(lambda x: ' '.join(sorted(list(x))))\n"
     ]
    }
   ],
   "source": [
    "# Converting set to string\n",
    "bank_statement2['desc'] = bank_statement2['desc'].apply(lambda x: ' '.join(sorted(list(x))))\n",
    "checkout2['buyer_name'] = checkout2['buyer_name'].apply(lambda x: ' '.join(sorted(list(x))))"
   ]
  },
  {
   "cell_type": "code",
   "execution_count": 20,
   "metadata": {},
   "outputs": [
    {
     "data": {
      "text/html": [
       "<div>\n",
       "<style scoped>\n",
       "    .dataframe tbody tr th:only-of-type {\n",
       "        vertical-align: middle;\n",
       "    }\n",
       "\n",
       "    .dataframe tbody tr th {\n",
       "        vertical-align: top;\n",
       "    }\n",
       "\n",
       "    .dataframe thead th {\n",
       "        text-align: right;\n",
       "    }\n",
       "</style>\n",
       "<table border=\"1\" class=\"dataframe\">\n",
       "  <thead>\n",
       "    <tr style=\"text-align: right;\">\n",
       "      <th></th>\n",
       "      <th>stmt_id</th>\n",
       "      <th>stmt_amount</th>\n",
       "      <th>desc</th>\n",
       "    </tr>\n",
       "  </thead>\n",
       "  <tbody>\n",
       "    <tr>\n",
       "      <th>134560</th>\n",
       "      <td>134561</td>\n",
       "      <td>0.10</td>\n",
       "      <td>AYRIHAW NIMPI SRZB YUQOM ZB</td>\n",
       "    </tr>\n",
       "    <tr>\n",
       "      <th>122393</th>\n",
       "      <td>122394</td>\n",
       "      <td>0.10</td>\n",
       "      <td>A C GQ PUJPANIFA SHOPEE TO WAJFAPA</td>\n",
       "    </tr>\n",
       "    <tr>\n",
       "      <th>158580</th>\n",
       "      <td>158581</td>\n",
       "      <td>0.10</td>\n",
       "      <td>A AD ALAZJAJHICA DILGI GO NA ZA</td>\n",
       "    </tr>\n",
       "    <tr>\n",
       "      <th>9324</th>\n",
       "      <td>9325</td>\n",
       "      <td>0.11</td>\n",
       "      <td>A B BAIC BJTROB C PALA TO TROB V ZAYTRIJI</td>\n",
       "    </tr>\n",
       "    <tr>\n",
       "      <th>145414</th>\n",
       "      <td>145415</td>\n",
       "      <td>0.11</td>\n",
       "      <td>A DA JA KULBAGIFAB VO</td>\n",
       "    </tr>\n",
       "  </tbody>\n",
       "</table>\n",
       "</div>"
      ],
      "text/plain": [
       "        stmt_id  stmt_amount                                       desc\n",
       "134560   134561         0.10                AYRIHAW NIMPI SRZB YUQOM ZB\n",
       "122393   122394         0.10         A C GQ PUJPANIFA SHOPEE TO WAJFAPA\n",
       "158580   158581         0.10            A AD ALAZJAJHICA DILGI GO NA ZA\n",
       "9324       9325         0.11  A B BAIC BJTROB C PALA TO TROB V ZAYTRIJI\n",
       "145414   145415         0.11                      A DA JA KULBAGIFAB VO"
      ]
     },
     "execution_count": 20,
     "metadata": {},
     "output_type": "execute_result"
    }
   ],
   "source": [
    "bank_statement2.head()"
   ]
  },
  {
   "cell_type": "code",
   "execution_count": 21,
   "metadata": {},
   "outputs": [
    {
     "data": {
      "text/html": [
       "<div>\n",
       "<style scoped>\n",
       "    .dataframe tbody tr th:only-of-type {\n",
       "        vertical-align: middle;\n",
       "    }\n",
       "\n",
       "    .dataframe tbody tr th {\n",
       "        vertical-align: top;\n",
       "    }\n",
       "\n",
       "    .dataframe thead th {\n",
       "        text-align: right;\n",
       "    }\n",
       "</style>\n",
       "<table border=\"1\" class=\"dataframe\">\n",
       "  <thead>\n",
       "    <tr style=\"text-align: right;\">\n",
       "      <th></th>\n",
       "      <th>ckt_id</th>\n",
       "      <th>ckt_amount</th>\n",
       "      <th>buyer_name</th>\n",
       "    </tr>\n",
       "  </thead>\n",
       "  <tbody>\n",
       "    <tr>\n",
       "      <th>225903</th>\n",
       "      <td>309643</td>\n",
       "      <td>0.10</td>\n",
       "      <td>ALA ZJAJHICA</td>\n",
       "    </tr>\n",
       "    <tr>\n",
       "      <th>201280</th>\n",
       "      <td>275938</td>\n",
       "      <td>0.10</td>\n",
       "      <td>PANIFA PUJ WAJFAPPA</td>\n",
       "    </tr>\n",
       "    <tr>\n",
       "      <th>85648</th>\n",
       "      <td>117315</td>\n",
       "      <td>0.10</td>\n",
       "      <td>AYRIHAWYUQOMB</td>\n",
       "    </tr>\n",
       "    <tr>\n",
       "      <th>103356</th>\n",
       "      <td>141553</td>\n",
       "      <td>0.11</td>\n",
       "      <td>BAGIFAB</td>\n",
       "    </tr>\n",
       "    <tr>\n",
       "      <th>6114</th>\n",
       "      <td>8350</td>\n",
       "      <td>0.11</td>\n",
       "      <td>PALAZAYTRJI</td>\n",
       "    </tr>\n",
       "  </tbody>\n",
       "</table>\n",
       "</div>"
      ],
      "text/plain": [
       "        ckt_id  ckt_amount           buyer_name\n",
       "225903  309643        0.10         ALA ZJAJHICA\n",
       "201280  275938        0.10  PANIFA PUJ WAJFAPPA\n",
       "85648   117315        0.10        AYRIHAWYUQOMB\n",
       "103356  141553        0.11              BAGIFAB\n",
       "6114      8350        0.11          PALAZAYTRJI"
      ]
     },
     "execution_count": 21,
     "metadata": {},
     "output_type": "execute_result"
    }
   ],
   "source": [
    "checkout2.head()"
   ]
  },
  {
   "cell_type": "code",
   "execution_count": 22,
   "metadata": {},
   "outputs": [],
   "source": [
    "prices = sorted(list(set(checkout2.ckt_amount)))"
   ]
  },
  {
   "cell_type": "markdown",
   "metadata": {},
   "source": [
    "**Applying Fuzzy Search**\n",
    "\n",
    "Criteria 2 : name match!\n",
    "\n",
    "In this case, we will use fuzzy search to match the buyer_name with description from bank statement."
   ]
  },
  {
   "cell_type": "code",
   "execution_count": 23,
   "metadata": {},
   "outputs": [],
   "source": [
    "bs2, co2 = bank_statement2.values.tolist(), checkout2.values.tolist(), \n",
    "curr_bank2, curr_trans2 = [], []\n",
    "answer2 = []\n",
    "for price in prices:\n",
    "    while bs2 and bs2[0][1] == price:\n",
    "        curr_bank2.append(bs2.pop(0))\n",
    "    while co2 and co2[0][1] == price:\n",
    "        curr_trans2.append(co2.pop(0))\n",
    "    for trans in curr_trans2:\n",
    "        curname = trans[2]\n",
    "        b = max(curr_bank2, key= lambda x: fuzz.partial_ratio(curname, x[2]))\n",
    "        answer2.append((trans, b))\n",
    "        curr_bank2.remove(b)\n",
    "    curr_bank2, curr_trans2 = [], []"
   ]
  },
  {
   "cell_type": "markdown",
   "metadata": {},
   "source": [
    "**Construct final dataframe**\n",
    "\n",
    "Lets match the bank statement IDs to the checkout IDs!"
   ]
  },
  {
   "cell_type": "code",
   "execution_count": 24,
   "metadata": {},
   "outputs": [],
   "source": [
    "df1 = [(x[0][0], x[1][0]) for x in answer]\n",
    "df2 = [(x[0][0], x[1][0]) for x in answer2]\n",
    "df = pd.DataFrame(df1+df2)\n",
    "df.columns = ['ckt_id', 'stmt_id']\n",
    "df = df[['stmt_id', 'ckt_id']]"
   ]
  },
  {
   "cell_type": "code",
   "execution_count": 25,
   "metadata": {},
   "outputs": [
    {
     "name": "stdout",
     "output_type": "stream",
     "text": [
      "(240000, 2)\n"
     ]
    }
   ],
   "source": [
    "print(df.shape)"
   ]
  },
  {
   "cell_type": "code",
   "execution_count": 26,
   "metadata": {},
   "outputs": [
    {
     "data": {
      "text/html": [
       "<div>\n",
       "<style scoped>\n",
       "    .dataframe tbody tr th:only-of-type {\n",
       "        vertical-align: middle;\n",
       "    }\n",
       "\n",
       "    .dataframe tbody tr th {\n",
       "        vertical-align: top;\n",
       "    }\n",
       "\n",
       "    .dataframe thead th {\n",
       "        text-align: right;\n",
       "    }\n",
       "</style>\n",
       "<table border=\"1\" class=\"dataframe\">\n",
       "  <thead>\n",
       "    <tr style=\"text-align: right;\">\n",
       "      <th></th>\n",
       "      <th>stmt_id</th>\n",
       "      <th>ckt_id</th>\n",
       "    </tr>\n",
       "  </thead>\n",
       "  <tbody>\n",
       "    <tr>\n",
       "      <th>0</th>\n",
       "      <td>114360</td>\n",
       "      <td>106443</td>\n",
       "    </tr>\n",
       "    <tr>\n",
       "      <th>1</th>\n",
       "      <td>201905</td>\n",
       "      <td>95499</td>\n",
       "    </tr>\n",
       "    <tr>\n",
       "      <th>2</th>\n",
       "      <td>115858</td>\n",
       "      <td>48817</td>\n",
       "    </tr>\n",
       "    <tr>\n",
       "      <th>3</th>\n",
       "      <td>37741</td>\n",
       "      <td>183132</td>\n",
       "    </tr>\n",
       "    <tr>\n",
       "      <th>4</th>\n",
       "      <td>150537</td>\n",
       "      <td>229799</td>\n",
       "    </tr>\n",
       "  </tbody>\n",
       "</table>\n",
       "</div>"
      ],
      "text/plain": [
       "   stmt_id  ckt_id\n",
       "0   114360  106443\n",
       "1   201905   95499\n",
       "2   115858   48817\n",
       "3    37741  183132\n",
       "4   150537  229799"
      ]
     },
     "execution_count": 26,
     "metadata": {},
     "output_type": "execute_result"
    }
   ],
   "source": [
    "df.head()"
   ]
  },
  {
   "cell_type": "code",
   "execution_count": 28,
   "metadata": {},
   "outputs": [],
   "source": [
    "submission = pd.DataFrame(answer2).to_csv('my_submission.csv', index=False)"
   ]
  },
  {
   "cell_type": "markdown",
   "metadata": {},
   "source": [
    "References :\n",
    "\n",
    "[https://www.kaggle.com/matheusaaron/payment-matching-by-cupu123]\n",
    "\n",
    "[https://towardsdatascience.com/natural-language-processing-for-fuzzy-string-matching-with-python-6632b7824c49#:~:text=In%20computer%20science%2C%20fuzzy%20string,partial%20words%20for%20the%20search.]"
   ]
  }
 ],
 "metadata": {
  "kernelspec": {
   "display_name": "Python 3",
   "language": "python",
   "name": "python3"
  },
  "language_info": {
   "codemirror_mode": {
    "name": "ipython",
    "version": 3
   },
   "file_extension": ".py",
   "mimetype": "text/x-python",
   "name": "python",
   "nbconvert_exporter": "python",
   "pygments_lexer": "ipython3",
   "version": "3.8.3"
  }
 },
 "nbformat": 4,
 "nbformat_minor": 4
}
